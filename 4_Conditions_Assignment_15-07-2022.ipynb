{
 "cells": [
  {
   "cell_type": "markdown",
   "metadata": {},
   "source": [
    "## Assignments"
   ]
  },
  {
   "cell_type": "markdown",
   "metadata": {},
   "source": [
    "### 1)The current year and the year in which the employee joined the organization are entered through the keyboard. If the number of years for which the employee has served the organization is greater than 3 then a bonus of Rs. 2500/- is given to the employee. If the years of service are not greater than 3, then the program should do nothing."
   ]
  },
  {
   "cell_type": "code",
   "execution_count": 3,
   "metadata": {},
   "outputs": [
    {
     "name": "stdout",
     "output_type": "stream",
     "text": [
      "Program is nothing\n"
     ]
    }
   ],
   "source": [
    "from datetime import date\n",
    "\n",
    "JoinedYear = int(input(\"Type when did employee joined the Organization\"))\n",
    "Current_Year = date.today().year\n",
    "\n",
    "if(Current_Year - JoinedYear >= 3):\n",
    "    print(\"Bonus is 2500\")\n",
    "else:\n",
    "    print(\"Program is nothing\")\n"
   ]
  },
  {
   "cell_type": "markdown",
   "metadata": {},
   "source": [
    "### 2) The marks obtained by a student in 5 different subjects are input through the keyboard. The student gets a division as per the following rules: Percentage above or equal to 60 First division  Percentage between 50 and 59 - Second division Percentage between 40 and 49 - Third division   Percentage less than 40 - Fail Write a program to calculate the division obtained by the student "
   ]
  },
  {
   "cell_type": "code",
   "execution_count": 10,
   "metadata": {},
   "outputs": [
    {
     "name": "stdout",
     "output_type": "stream",
     "text": [
      "First Division\n"
     ]
    }
   ],
   "source": [
    "s1,s2,s3,s4,s5 = input(\"Enter 5 student marks\").split()\n",
    "totalMarks = (int(s1) + int(s2)+int(s3) +int(s4)+int(s5)/5)*100\n",
    "if(totalMarks > 60):\n",
    "    print(\"First Division\")\n",
    "elif(50<= totalMarks >=59):\n",
    "    print(\"Second Division\")\n",
    "elif(40<= totalMarks >=49):\n",
    "    print(\"Third Division\")\n",
    "elif(totalMarks <= 40 ):\n",
    "    print(\"Fail\")\n",
    "\n"
   ]
  },
  {
   "cell_type": "markdown",
   "metadata": {},
   "source": [
    "### 4) If cost price and selling price of an item is input through the keyboard, write a program to determine whether the seller has  made profit or incurred loss. Also determine how much profit he made or loss he incurred."
   ]
  },
  {
   "cell_type": "code",
   "execution_count": 18,
   "metadata": {},
   "outputs": [
    {
     "name": "stdout",
     "output_type": "stream",
     "text": [
      "Seller has made Lose of: 10\n"
     ]
    }
   ],
   "source": [
    "Cost_Price = int(input(\"Cost price of an item\"))\n",
    "Selling_Price = int(input(\"Selling price of an item\"))\n",
    "if(Selling_Price > Cost_Price):\n",
    "    print(f'Seller has made Lose of: {Selling_Price-Cost_Price}')\n",
    "else:\n",
    "    print(f'Seller has made profit of: {Cost_Price-Selling_Price}')"
   ]
  },
  {
   "cell_type": "markdown",
   "metadata": {},
   "source": [
    "### 5) Any integer is input through the keyboard. Write a program to find out whether it is an odd number or even number."
   ]
  },
  {
   "cell_type": "code",
   "execution_count": 24,
   "metadata": {},
   "outputs": [
    {
     "name": "stdout",
     "output_type": "stream",
     "text": [
      "9 is a odd no\n"
     ]
    }
   ],
   "source": [
    "i = int(input(\"Enter NO:\"))\n",
    "if(i%2 == 0):\n",
    "    print(f\"{i} is a even no\")\n",
    "else:\n",
    "    print(f\"{i} is a odd no\")\n"
   ]
  }
 ],
 "metadata": {
  "kernelspec": {
   "display_name": "Python 3.10.5 64-bit",
   "language": "python",
   "name": "python3"
  },
  "language_info": {
   "codemirror_mode": {
    "name": "ipython",
    "version": 3
   },
   "file_extension": ".py",
   "mimetype": "text/x-python",
   "name": "python",
   "nbconvert_exporter": "python",
   "pygments_lexer": "ipython3",
   "version": "3.10.5"
  },
  "orig_nbformat": 4,
  "vscode": {
   "interpreter": {
    "hash": "a5e6c82439f336c874a2e63d7c5517e629d0973f089b8c7331e3c587b3c2f473"
   }
  }
 },
 "nbformat": 4,
 "nbformat_minor": 2
}
