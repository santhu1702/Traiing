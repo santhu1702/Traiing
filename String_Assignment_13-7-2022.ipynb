{
 "cells": [
  {
   "cell_type": "markdown",
   "metadata": {},
   "source": [
    "# ASSIGNMENT\n",
    "\n"
   ]
  },
  {
   "cell_type": "markdown",
   "metadata": {},
   "source": [
    "### check if it is perllindrome (NITIN)\n"
   ]
  },
  {
   "cell_type": "code",
   "execution_count": 1,
   "metadata": {},
   "outputs": [
    {
     "name": "stdout",
     "output_type": "stream",
     "text": [
      "True\n"
     ]
    }
   ],
   "source": [
    "s = \"NITIN\";\n",
    "if(s == s[::-1]):\n",
    "    print(\"True\") \n",
    "else:\n",
    "    print(\"False\")\n"
   ]
  },
  {
   "cell_type": "markdown",
   "metadata": {},
   "source": [
    "### print the reverse half of a string (argentina.. negratina)\n"
   ]
  },
  {
   "cell_type": "code",
   "execution_count": 46,
   "metadata": {},
   "outputs": [
    {
     "name": "stdout",
     "output_type": "stream",
     "text": [
      "egrantina\n"
     ]
    }
   ],
   "source": [
    "S = \"argentina\"\n",
    "S1 = s[:(len(S)//2)]\n",
    "S2 = s[(len(s)//2):]\n",
    "print(f\"{S1[::-1]}{S2}\")"
   ]
  },
  {
   "cell_type": "markdown",
   "metadata": {},
   "source": [
    "### write a program to check if the string is startswith, endswith, capitalize\n"
   ]
  },
  {
   "cell_type": "code",
   "execution_count": 49,
   "metadata": {},
   "outputs": [
    {
     "name": "stdout",
     "output_type": "stream",
     "text": [
      "True\n",
      "True\n",
      "Argentina\n"
     ]
    }
   ],
   "source": [
    "print(s.startswith(\"a\"))\n",
    "print(s.endswith(\"a\"))\n",
    "print(s.capitalize())\n"
   ]
  }
 ],
 "metadata": {
  "kernelspec": {
   "display_name": "Python 3.10.5 64-bit",
   "language": "python",
   "name": "python3"
  },
  "language_info": {
   "codemirror_mode": {
    "name": "ipython",
    "version": 3
   },
   "file_extension": ".py",
   "mimetype": "text/x-python",
   "name": "python",
   "nbconvert_exporter": "python",
   "pygments_lexer": "ipython3",
   "version": "3.10.5"
  },
  "orig_nbformat": 4,
  "vscode": {
   "interpreter": {
    "hash": "a5e6c82439f336c874a2e63d7c5517e629d0973f089b8c7331e3c587b3c2f473"
   }
  }
 },
 "nbformat": 4,
 "nbformat_minor": 2
}
